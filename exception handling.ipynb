{
 "cells": [
  {
   "cell_type": "code",
   "execution_count": 1,
   "metadata": {},
   "outputs": [
    {
     "name": "stdout",
     "output_type": "stream",
     "text": [
      "Enter age = ten\n",
      "Enter value in integer \n"
     ]
    }
   ],
   "source": [
    "#exception handling\n",
    "\n",
    "try:                             # executes this block first\n",
    "    a = int(input(\"Enter age = \"))\n",
    "except:                          # executes this block if any exception occurs\n",
    "    print(\"Enter value in integer \")"
   ]
  },
  {
   "cell_type": "code",
   "execution_count": 2,
   "metadata": {},
   "outputs": [
    {
     "name": "stdout",
     "output_type": "stream",
     "text": [
      "Enter a = 10\n",
      "Enter b = 0\n",
      "Error\n"
     ]
    }
   ],
   "source": [
    "try :\n",
    "    a = int(input(\"Enter a = \"))\n",
    "    b = int(input(\"Enter b = \"))\n",
    "    c = a/b\n",
    "    print(c)\n",
    "except:\n",
    "    print(\"Error\") # prints \"error\" instead of rising exception"
   ]
  },
  {
   "cell_type": "code",
   "execution_count": null,
   "metadata": {},
   "outputs": [],
   "source": [
    "try :\n",
    "    a = int(input(\"Enter a = \"))\n",
    "    b = int(input(\"Enter b = \"))\n",
    "    c = a/b\n",
    "    print(c)\n",
    "    \n",
    "except ZeroDivisionError:\n",
    "    print(\"The value of b can not be zero\")\n",
    "    \n",
    "except ValueError:\n",
    "    print(\"The a and b must be int \")"
   ]
  },
  {
   "cell_type": "code",
   "execution_count": 5,
   "metadata": {},
   "outputs": [
    {
     "name": "stdout",
     "output_type": "stream",
     "text": [
      "Enter a = ten\n",
      "The a and b must be int \n",
      "Enter a = 10\n",
      "Enter b = 0\n",
      "The value of b can not be zero\n",
      "Enter a = 10\n",
      "Enter b = 5\n",
      "2.0\n"
     ]
    }
   ],
   "source": [
    "def cal():\n",
    "    try :\n",
    "        a = int(input(\"Enter a = \"))\n",
    "        b = int(input(\"Enter b = \"))\n",
    "        c = a/b\n",
    "        print(c)\n",
    "    \n",
    "    except ZeroDivisionError:\n",
    "        print(\"The value of b can not be zero\")\n",
    "        cal()\n",
    "\n",
    "    except ValueError:\n",
    "        print(\"The a and b must be int \")\n",
    "        cal()\n",
    "    else:\n",
    "        print(c)\n",
    "    finally:\n",
    "        print(\"This is finally block\")\n",
    "\n",
    "cal()"
   ]
  },
  {
   "cell_type": "code",
   "execution_count": 7,
   "metadata": {},
   "outputs": [
    {
     "name": "stdout",
     "output_type": "stream",
     "text": [
      "Enter name:  Ram\n",
      "This is correct. \n"
     ]
    }
   ],
   "source": [
    "try:\n",
    "    name = input(\"Enter name:  \")\n",
    "    if name[0].isupper():\n",
    "        raise ZeroDivisionError\n",
    "except ZeroDivisionError:\n",
    "    print(\"This is correct. \")"
   ]
  },
  {
   "cell_type": "code",
   "execution_count": 23,
   "metadata": {},
   "outputs": [
    {
     "ename": "AssertionError",
     "evalue": "",
     "output_type": "error",
     "traceback": [
      "\u001b[1;31m---------------------------------------------------------------------------\u001b[0m",
      "\u001b[1;31mAssertionError\u001b[0m                            Traceback (most recent call last)",
      "\u001b[1;32m<ipython-input-23-19d618cde5e2>\u001b[0m in \u001b[0;36m<module>\u001b[1;34m\u001b[0m\n\u001b[0;32m      1\u001b[0m \u001b[0ma\u001b[0m \u001b[1;33m=\u001b[0m \u001b[1;36m5\u001b[0m\u001b[1;33m\u001b[0m\u001b[1;33m\u001b[0m\u001b[0m\n\u001b[0;32m      2\u001b[0m \u001b[0mb\u001b[0m \u001b[1;33m=\u001b[0m \u001b[1;36m10\u001b[0m\u001b[1;33m\u001b[0m\u001b[1;33m\u001b[0m\u001b[0m\n\u001b[1;32m----> 3\u001b[1;33m \u001b[1;32massert\u001b[0m \u001b[0mb\u001b[0m\u001b[1;33m<\u001b[0m\u001b[0ma\u001b[0m\u001b[1;33m\u001b[0m\u001b[1;33m\u001b[0m\u001b[0m\n\u001b[0m",
      "\u001b[1;31mAssertionError\u001b[0m: "
     ]
    }
   ],
   "source": [
    "a = 5\n",
    "b = 10\n",
    "assert b<a\n"
   ]
  },
  {
   "cell_type": "code",
   "execution_count": 13,
   "metadata": {},
   "outputs": [
    {
     "name": "stdout",
     "output_type": "stream",
     "text": [
      "b is smaller\n"
     ]
    }
   ],
   "source": [
    "try:\n",
    "    a = 10\n",
    "    b = 5\n",
    "    assert b<a\n",
    "    print(\"b is smaller\")\n",
    "except:\n",
    "    print(\"a is greater\")"
   ]
  },
  {
   "cell_type": "code",
   "execution_count": 27,
   "metadata": {},
   "outputs": [
    {
     "name": "stdout",
     "output_type": "stream",
     "text": [
      "Enter username: admin\n",
      "Enter password: admin\n",
      "invalid username or password\n"
     ]
    }
   ],
   "source": [
    "un = \"admin\"\n",
    "pas = \"admin123\"\n",
    "counter = 0\n",
    "\n",
    "def user_pass():\n",
    "    global counter\n",
    "    try:\n",
    "        a = input(\"Enter username: \")\n",
    "        b = input(\"Enter password: \")\n",
    "        assert a == un and b == pas\n",
    "        print(\"valid username and password\")\n",
    "    except: \n",
    "        print(\"username and password do not matched\")\n",
    "        counter +=1\n",
    "        assert counter<5\n",
    "        user_pass()\n",
    "    else:\n",
    "        print(\"You passed in following attempt\", counter)\n",
    "    finally:\n",
    "        print(You are in final block)\n",
    "main()\n",
    "    "
   ]
  },
  {
   "cell_type": "code",
   "execution_count": null,
   "metadata": {},
   "outputs": [],
   "source": []
  },
  {
   "cell_type": "code",
   "execution_count": null,
   "metadata": {},
   "outputs": [],
   "source": []
  }
 ],
 "metadata": {
  "kernelspec": {
   "display_name": "Python 3",
   "language": "python",
   "name": "python3"
  },
  "language_info": {
   "codemirror_mode": {
    "name": "ipython",
    "version": 3
   },
   "file_extension": ".py",
   "mimetype": "text/x-python",
   "name": "python",
   "nbconvert_exporter": "python",
   "pygments_lexer": "ipython3",
   "version": "3.8.5"
  }
 },
 "nbformat": 4,
 "nbformat_minor": 4
}
