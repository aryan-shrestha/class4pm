{
 "cells": [
  {
   "cell_type": "code",
   "execution_count": 1,
   "metadata": {},
   "outputs": [],
   "source": [
    "b = open('data.csv', 'x')\n",
    "b.close()\n"
   ]
  },
  {
   "cell_type": "code",
   "execution_count": 6,
   "metadata": {},
   "outputs": [
    {
     "data": {
      "text/html": [
       "<div>\n",
       "<style scoped>\n",
       "    .dataframe tbody tr th:only-of-type {\n",
       "        vertical-align: middle;\n",
       "    }\n",
       "\n",
       "    .dataframe tbody tr th {\n",
       "        vertical-align: top;\n",
       "    }\n",
       "\n",
       "    .dataframe thead th {\n",
       "        text-align: right;\n",
       "    }\n",
       "</style>\n",
       "<table border=\"1\" class=\"dataframe\">\n",
       "  <thead>\n",
       "    <tr style=\"text-align: right;\">\n",
       "      <th></th>\n",
       "      <th>Name</th>\n",
       "      <th>Age</th>\n",
       "      <th>Address</th>\n",
       "      <th>phone</th>\n",
       "    </tr>\n",
       "    <tr>\n",
       "      <th>Sn</th>\n",
       "      <th></th>\n",
       "      <th></th>\n",
       "      <th></th>\n",
       "      <th></th>\n",
       "    </tr>\n",
       "  </thead>\n",
       "  <tbody>\n",
       "    <tr>\n",
       "      <th>1</th>\n",
       "      <td>Ram</td>\n",
       "      <td>18</td>\n",
       "      <td>satdobato</td>\n",
       "      <td>98989898</td>\n",
       "    </tr>\n",
       "    <tr>\n",
       "      <th>2</th>\n",
       "      <td>Hari</td>\n",
       "      <td>19</td>\n",
       "      <td>lagankhel</td>\n",
       "      <td>9898787</td>\n",
       "    </tr>\n",
       "    <tr>\n",
       "      <th>3</th>\n",
       "      <td>shyam</td>\n",
       "      <td>20</td>\n",
       "      <td>kathmandu</td>\n",
       "      <td>23232323</td>\n",
       "    </tr>\n",
       "    <tr>\n",
       "      <th>4</th>\n",
       "      <td>Nabin</td>\n",
       "      <td>21</td>\n",
       "      <td>lalitpurm</td>\n",
       "      <td>10101010</td>\n",
       "    </tr>\n",
       "  </tbody>\n",
       "</table>\n",
       "</div>"
      ],
      "text/plain": [
       "      Name   Age     Address     phone\n",
       "Sn                                    \n",
       "1      Ram    18   satdobato  98989898\n",
       "2     Hari    19   lagankhel   9898787\n",
       "3    shyam    20   kathmandu  23232323\n",
       "4    Nabin    21   lalitpurm  10101010"
      ]
     },
     "execution_count": 6,
     "metadata": {},
     "output_type": "execute_result"
    }
   ],
   "source": [
    "import pandas as pd\n",
    "df = pd.read_csv('data.csv', index_col='Sn')\n",
    "df"
   ]
  },
  {
   "cell_type": "code",
   "execution_count": 28,
   "metadata": {},
   "outputs": [],
   "source": [
    "import pandas as pd\n",
    "cols = ['Sn', 'Name', 'Age']\n",
    "df = pd.read_csv('data.csv', index_col = \"Sn\", usecols = cols )\n"
   ]
  },
  {
   "cell_type": "code",
   "execution_count": 15,
   "metadata": {},
   "outputs": [
    {
     "data": {
      "text/html": [
       "<div>\n",
       "<style scoped>\n",
       "    .dataframe tbody tr th:only-of-type {\n",
       "        vertical-align: middle;\n",
       "    }\n",
       "\n",
       "    .dataframe tbody tr th {\n",
       "        vertical-align: top;\n",
       "    }\n",
       "\n",
       "    .dataframe thead th {\n",
       "        text-align: right;\n",
       "    }\n",
       "</style>\n",
       "<table border=\"1\" class=\"dataframe\">\n",
       "  <thead>\n",
       "    <tr style=\"text-align: right;\">\n",
       "      <th></th>\n",
       "      <th>Name</th>\n",
       "      <th>Age</th>\n",
       "      <th>Address</th>\n",
       "    </tr>\n",
       "    <tr>\n",
       "      <th>Sn</th>\n",
       "      <th></th>\n",
       "      <th></th>\n",
       "      <th></th>\n",
       "    </tr>\n",
       "  </thead>\n",
       "  <tbody>\n",
       "    <tr>\n",
       "      <th>3</th>\n",
       "      <td>shyam</td>\n",
       "      <td>20</td>\n",
       "      <td>kathmandu</td>\n",
       "    </tr>\n",
       "    <tr>\n",
       "      <th>4</th>\n",
       "      <td>Nabin</td>\n",
       "      <td>21</td>\n",
       "      <td>lalitpurm</td>\n",
       "    </tr>\n",
       "    <tr>\n",
       "      <th>5</th>\n",
       "      <td>Nabina</td>\n",
       "      <td>22</td>\n",
       "      <td>lagankhel</td>\n",
       "    </tr>\n",
       "    <tr>\n",
       "      <th>6</th>\n",
       "      <td>sita</td>\n",
       "      <td>23</td>\n",
       "      <td>chabel</td>\n",
       "    </tr>\n",
       "  </tbody>\n",
       "</table>\n",
       "</div>"
      ],
      "text/plain": [
       "       Name  Age     Address\n",
       "Sn                          \n",
       "3     shyam   20   kathmandu\n",
       "4     Nabin   21   lalitpurm\n",
       "5    Nabina   22   lagankhel\n",
       "6      sita   23      chabel"
      ]
     },
     "execution_count": 15,
     "metadata": {},
     "output_type": "execute_result"
    }
   ],
   "source": [
    "import pandas as pd \n",
    "df = pd.read_csv('data.csv', index_col = \"Sn\")\n",
    "df.iloc[2:6,0:3]"
   ]
  },
  {
   "cell_type": "code",
   "execution_count": 19,
   "metadata": {},
   "outputs": [
    {
     "data": {
      "text/html": [
       "<div>\n",
       "<style scoped>\n",
       "    .dataframe tbody tr th:only-of-type {\n",
       "        vertical-align: middle;\n",
       "    }\n",
       "\n",
       "    .dataframe tbody tr th {\n",
       "        vertical-align: top;\n",
       "    }\n",
       "\n",
       "    .dataframe thead th {\n",
       "        text-align: right;\n",
       "    }\n",
       "</style>\n",
       "<table border=\"1\" class=\"dataframe\">\n",
       "  <thead>\n",
       "    <tr style=\"text-align: right;\">\n",
       "      <th></th>\n",
       "      <th>Sn</th>\n",
       "      <th>Age</th>\n",
       "      <th>Address</th>\n",
       "      <th>phone</th>\n",
       "    </tr>\n",
       "    <tr>\n",
       "      <th>Name</th>\n",
       "      <th></th>\n",
       "      <th></th>\n",
       "      <th></th>\n",
       "      <th></th>\n",
       "    </tr>\n",
       "  </thead>\n",
       "  <tbody>\n",
       "    <tr>\n",
       "      <th>Nabin</th>\n",
       "      <td>4</td>\n",
       "      <td>21</td>\n",
       "      <td>lalitpurm</td>\n",
       "      <td>10101010</td>\n",
       "    </tr>\n",
       "    <tr>\n",
       "      <th>Nabina</th>\n",
       "      <td>5</td>\n",
       "      <td>22</td>\n",
       "      <td>lagankhel</td>\n",
       "      <td>202020220</td>\n",
       "    </tr>\n",
       "    <tr>\n",
       "      <th>sita</th>\n",
       "      <td>6</td>\n",
       "      <td>23</td>\n",
       "      <td>chabel</td>\n",
       "      <td>30303030</td>\n",
       "    </tr>\n",
       "  </tbody>\n",
       "</table>\n",
       "</div>"
      ],
      "text/plain": [
       "         Sn  Age    Address      phone\n",
       "Name                                  \n",
       " Nabin    4   21  lalitpurm   10101010\n",
       " Nabina   5   22  lagankhel  202020220\n",
       " sita     6   23     chabel   30303030"
      ]
     },
     "execution_count": 19,
     "metadata": {},
     "output_type": "execute_result"
    }
   ],
   "source": [
    "import pandas as pd \n",
    "df = pd.read_csv('data.csv', index_col = \"Name\")\n",
    "df[df[\"Age\"]>20]"
   ]
  },
  {
   "cell_type": "code",
   "execution_count": 29,
   "metadata": {},
   "outputs": [],
   "source": [
    "import pandas as pd \n",
    "df = pd.read_csv('data.csv', index_col = \"Sn\")\n",
    "df[(df[\"Address\"]==\"kathmandu\") | (df['Age']>19)]\n",
    "df.to_csv('data1.csv')"
   ]
  },
  {
   "cell_type": "code",
   "execution_count": 32,
   "metadata": {},
   "outputs": [],
   "source": [
    "import csv\n",
    "\n",
    "fields = [7, 'Hari', 45, \"Patan\", 98698698]\n",
    "\n",
    "f = open('books.csv', 'a')\n",
    "x = csv.writer(f)\n",
    "x.writerow(fields)\n",
    "f.close()"
   ]
  },
  {
   "cell_type": "code",
   "execution_count": 36,
   "metadata": {},
   "outputs": [],
   "source": [
    "import csv\n",
    "\n",
    "fields = [7, \"hari\", \"Patan\", 56565656]\n",
    "with open('data.csv', 'a') as f:\n",
    "    x = csv.writer(f)\n",
    "    x.writerow(fields)"
   ]
  },
  {
   "cell_type": "code",
   "execution_count": 38,
   "metadata": {},
   "outputs": [],
   "source": [
    "fields = [[7,\"Ram\",22,\"patn\",9848546], [\"Shyam\", 985267564]]\n",
    "\n",
    "import csv\n",
    "\n",
    "with open('data.csv', 'a') as f:\n",
    "    x = csv.writer(f)\n",
    "    for i in fields:\n",
    "        x.writerow(i)"
   ]
  },
  {
   "cell_type": "code",
   "execution_count": 39,
   "metadata": {},
   "outputs": [
    {
     "name": "stdout",
     "output_type": "stream",
     "text": [
      "{'Sn': '1', 'Name': ' Ram', 'Age': '18', 'Address': 'satdobato', 'phone': '98989898'}\n",
      "{'Sn': '3', 'Name': ' shyam', 'Age': '20', 'Address': 'kathmandu', 'phone': '23232323'}\n",
      "{'Sn': '4', 'Name': ' Nabin', 'Age': '21', 'Address': 'kathmandu', 'phone': '10101010'}\n",
      "{'Sn': '5', 'Name': ' Nabina', 'Age': '22', 'Address': 'lagankhel', 'phone': '202020220'}\n",
      "{'Sn': '6', 'Name': ' sita', 'Age': '23', 'Address': 'chabel', 'phone': '303030307', None: ['hari', 'Patan', '56565656']}\n",
      "{'Sn': 'Ram', 'Name': '9848546', 'Age': None, 'Address': None, 'phone': None}\n",
      "{'Sn': 'Shyam', 'Name': '985267564', 'Age': None, 'Address': None, 'phone': None}\n",
      "{'Sn': '7', 'Name': 'Ram', 'Age': '22', 'Address': 'patn', 'phone': '9848546'}\n",
      "{'Sn': 'Shyam', 'Name': '985267564', 'Age': None, 'Address': None, 'phone': None}\n"
     ]
    }
   ],
   "source": [
    "import csv\n",
    "\n",
    "with open('data.csv') as csvfile:\n",
    "    reader = csv.DictReader(csvfile)\n",
    "    for row in reader:\n",
    "        print(row)"
   ]
  },
  {
   "cell_type": "code",
   "execution_count": 42,
   "metadata": {},
   "outputs": [
    {
     "data": {
      "text/html": [
       "<div>\n",
       "<style scoped>\n",
       "    .dataframe tbody tr th:only-of-type {\n",
       "        vertical-align: middle;\n",
       "    }\n",
       "\n",
       "    .dataframe tbody tr th {\n",
       "        vertical-align: top;\n",
       "    }\n",
       "\n",
       "    .dataframe thead th {\n",
       "        text-align: right;\n",
       "    }\n",
       "</style>\n",
       "<table border=\"1\" class=\"dataframe\">\n",
       "  <thead>\n",
       "    <tr style=\"text-align: right;\">\n",
       "      <th></th>\n",
       "      <th>Name</th>\n",
       "      <th>address</th>\n",
       "      <th>age</th>\n",
       "    </tr>\n",
       "  </thead>\n",
       "  <tbody>\n",
       "    <tr>\n",
       "      <th>0</th>\n",
       "      <td>Ram</td>\n",
       "      <td>Kathmandu</td>\n",
       "      <td>21</td>\n",
       "    </tr>\n",
       "    <tr>\n",
       "      <th>1</th>\n",
       "      <td>Shyam</td>\n",
       "      <td>lalitput</td>\n",
       "      <td>22</td>\n",
       "    </tr>\n",
       "    <tr>\n",
       "      <th>2</th>\n",
       "      <td>Hari</td>\n",
       "      <td>palpa</td>\n",
       "      <td>23</td>\n",
       "    </tr>\n",
       "    <tr>\n",
       "      <th>3</th>\n",
       "      <td>Bikash</td>\n",
       "      <td>bhaktaur</td>\n",
       "      <td>24</td>\n",
       "    </tr>\n",
       "    <tr>\n",
       "      <th>4</th>\n",
       "      <td>Samrat</td>\n",
       "      <td>patan</td>\n",
       "      <td>25</td>\n",
       "    </tr>\n",
       "  </tbody>\n",
       "</table>\n",
       "</div>"
      ],
      "text/plain": [
       "     Name    address  age\n",
       "0     Ram  Kathmandu   21\n",
       "1   Shyam   lalitput   22\n",
       "2    Hari      palpa   23\n",
       "3  Bikash   bhaktaur   24\n",
       "4  Samrat      patan   25"
      ]
     },
     "execution_count": 42,
     "metadata": {},
     "output_type": "execute_result"
    }
   ],
   "source": [
    "import pandas as pd\n",
    "data = {'Name': ['Ram', 'Shyam', 'Hari', 'Bikash', 'Samrat'],\n",
    "       'address': ['Kathmandu', 'lalitput', 'palpa', 'bhaktaur', 'patan'],\n",
    "       'age': [21,22,23,24,25]}\n",
    "df = pd.DataFrame(data)\n",
    "df.to_csv('books2.csv')\n",
    "df.head()"
   ]
  },
  {
   "cell_type": "code",
   "execution_count": 43,
   "metadata": {},
   "outputs": [],
   "source": [
    "import csv\n",
    "\n",
    "csv_columns = ['Name', 'Age', 'Address']\n",
    "dict = [\n",
    "    {'Name': 'Ayaush', 'Age': 23, 'Address': 'Kathmandu'},\n",
    "    {'Name': 'Shyam', 'Age' : 33, 'Address': 'Patan'}\n",
    "]\n",
    "\n",
    "try:\n",
    "    with open(\"data2.csv\", \"w\") as csvfile:\n",
    "        writer = csv.DictWriter(csvfile, fieldnames = csv_columns)\n",
    "        writer.writeheader()\n",
    "        for data in dict:\n",
    "            writer.writerow(data)\n",
    "except IOError:\n",
    "    print(\"i/O error\")"
   ]
  },
  {
   "cell_type": "code",
   "execution_count": null,
   "metadata": {},
   "outputs": [],
   "source": []
  }
 ],
 "metadata": {
  "kernelspec": {
   "display_name": "Python 3",
   "language": "python",
   "name": "python3"
  },
  "language_info": {
   "codemirror_mode": {
    "name": "ipython",
    "version": 3
   },
   "file_extension": ".py",
   "mimetype": "text/x-python",
   "name": "python",
   "nbconvert_exporter": "python",
   "pygments_lexer": "ipython3",
   "version": "3.8.5"
  }
 },
 "nbformat": 4,
 "nbformat_minor": 4
}
