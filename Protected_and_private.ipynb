{
 "cells": [
  {
   "cell_type": "code",
   "execution_count": 1,
   "metadata": {},
   "outputs": [
    {
     "name": "stdout",
     "output_type": "stream",
     "text": [
      "Ram\n",
      "45\n",
      "Kathmandu\n"
     ]
    }
   ],
   "source": [
    "#Private members\n",
    "\n",
    "class Info:\n",
    "    def __init__(self, name, age, add):\n",
    "        self.__name = name\n",
    "        self.__age = age\n",
    "        self.__add = add\n",
    "    \n",
    "obj = Info(\"Ram\", 45, \"Kathmandu\")\n",
    "print(obj._Info__name)\n",
    "print(obj._Info__age)\n",
    "print(obj._Info__add)"
   ]
  },
  {
   "cell_type": "code",
   "execution_count": 9,
   "metadata": {},
   "outputs": [
    {
     "name": "stdout",
     "output_type": "stream",
     "text": [
      "hello I am Ram. I am from Kathmandu. My phone no is 96363696\n",
      "hello I am Shyam. I am from Patan. My phone no is 986365656\n"
     ]
    }
   ],
   "source": [
    "class Info:\n",
    "    def __init__(self, name, address, phone):\n",
    "        self._name = name\n",
    "        self.address = address\n",
    "        self.__phone = phone\n",
    "        \n",
    "class Hr(Info):\n",
    "    def hr(self):\n",
    "        print(f\"hello I am {self._name}. I am from {self.address}. My phone no is {self._Info__phone}\")\n",
    "        \n",
    "\n",
    "obj = Hr(\"Ram\", \"Kathmandu\", 96363696)\n",
    "obj.hr()\n",
    "obj1 = Hr(\"Shyam\", \"Patan\",986365656)\n",
    "obj1.hr()"
   ]
  },
  {
   "cell_type": "code",
   "execution_count": 36,
   "metadata": {},
   "outputs": [
    {
     "name": "stdout",
     "output_type": "stream",
     "text": [
      "Kathmandu\n",
      "Lalitpur\n"
     ]
    }
   ],
   "source": [
    "class Info:\n",
    "    def __init__(self, address):\n",
    "        self.__address = address\n",
    "    \n",
    "    def info(self):\n",
    "        print(self.__address)\n",
    "        \n",
    "class Office(Info):\n",
    "    def __init__(self, name, address):\n",
    "        Info.__init__(self, address)\n",
    "        self.name = name\n",
    "\n",
    "class Hr(Office):\n",
    "    def __init__(self, name, address):\n",
    "        Info.__init__(self, address)\n",
    "        Office.__init__(self, name, address)\n",
    "    \n",
    "    def hr(self):\n",
    "        print(f\"hello I am {self.name}. I am from {self._Info__address}\")\n",
    "        \n",
    "\n",
    "obj = Hr(\"Ram\", \"Kathmandu\")\n",
    "obj.info()\n",
    "\n",
    "obj1 = Office(\"Hari\", \"Lalitpur\")\n",
    "obj1.info()"
   ]
  },
  {
   "cell_type": "code",
   "execution_count": null,
   "metadata": {},
   "outputs": [],
   "source": []
  }
 ],
 "metadata": {
  "kernelspec": {
   "display_name": "Python 3",
   "language": "python",
   "name": "python3"
  },
  "language_info": {
   "codemirror_mode": {
    "name": "ipython",
    "version": 3
   },
   "file_extension": ".py",
   "mimetype": "text/x-python",
   "name": "python",
   "nbconvert_exporter": "python",
   "pygments_lexer": "ipython3",
   "version": "3.8.5"
  }
 },
 "nbformat": 4,
 "nbformat_minor": 4
}
