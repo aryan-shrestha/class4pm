{
 "cells": [
  {
   "cell_type": "code",
   "execution_count": 2,
   "metadata": {},
   "outputs": [
    {
     "name": "stdout",
     "output_type": "stream",
     "text": [
      "hello I am Ram. I am from Kathmandu\n"
     ]
    }
   ],
   "source": [
    "class Info:\n",
    "    def __init__(self, name, address):\n",
    "        self.name = name\n",
    "        self.address = address\n",
    "\n",
    "class Hr(Info):\n",
    "    def hr(self):\n",
    "        print(f\"hello I am {self.name}. I am from {self.address}\")\n",
    "        \n",
    "\n",
    "obj = Hr(\"Ram\", \"Kathmandu\")\n",
    "obj.hr()\n",
    "obj1 = Info(\"Shyam\", \"Patan\")"
   ]
  },
  {
   "cell_type": "code",
   "execution_count": 7,
   "metadata": {},
   "outputs": [
    {
     "name": "stdout",
     "output_type": "stream",
     "text": [
      "This is class A\n",
      "This is class C\n",
      "This is class B\n",
      "This is class A\n",
      "This is class B\n",
      "This is class A\n"
     ]
    }
   ],
   "source": [
    "class A:\n",
    "    def a(self):\n",
    "        print(\"This is class A\")\n",
    "\n",
    "class B(A):\n",
    "    def b(self):\n",
    "        print(\"This is class B\")\n",
    "        super().a()\n",
    "        \n",
    "class C(B):\n",
    "    def c(self):\n",
    "        print(\"This is class C\")\n",
    "        super().b()\n",
    "    \n",
    "obj = C()\n",
    "obj.a()\n",
    "obj.c()\n",
    "obj.b()"
   ]
  },
  {
   "cell_type": "code",
   "execution_count": 9,
   "metadata": {},
   "outputs": [
    {
     "name": "stdout",
     "output_type": "stream",
     "text": [
      "hello I am Ram. I am from Kathmandu\n"
     ]
    }
   ],
   "source": [
    "class Info:\n",
    "    def __init__(self, name, address):\n",
    "        self.name = name\n",
    "        self.address = address\n",
    "        \n",
    "    def info(self):\n",
    "        print(f\"hello I am {self.name}. I am from {self.address}\")\n",
    "\n",
    "class Hr(Info):\n",
    "    def hr(self):\n",
    "        super().info()\n",
    "        \n",
    "\n",
    "obj = Hr(\"Ram\", \"Kathmandu\")\n",
    "obj.hr()"
   ]
  },
  {
   "cell_type": "code",
   "execution_count": null,
   "metadata": {},
   "outputs": [],
   "source": [
    "class Info:\n",
    "    def __init__(self, address):\n",
    "        self.address = address\n",
    "        \n",
    "class Office(Info):\n",
    "    def __init__(self, name):\n",
    "        self.name = name\n",
    "\n",
    "class Hr(Office):\n",
    "    def __init__(self, name, address):\n",
    "        Info.__init__(self, address)\n",
    "        Office.__init__(self, name)\n",
    "    \n",
    "    def hr(self):\n",
    "        print(f\"hello I am {self.name}. I am from {self.address}\")\n",
    "        \n",
    "\n",
    "obj = Hr(\"Ram\", \"Kathmandu\")\n",
    "obj.hr()\n",
    "obj1 = Info(\"Shyam\", \"Patan\")"
   ]
  },
  {
   "cell_type": "code",
   "execution_count": 12,
   "metadata": {},
   "outputs": [
    {
     "name": "stdout",
     "output_type": "stream",
     "text": [
      "hello I am Ram. I am from Kathmandu. My phone number is 98989898\n"
     ]
    }
   ],
   "source": [
    "class Info:\n",
    "    def __init__(self, address):\n",
    "        self.address = address\n",
    "        \n",
    "class Office:\n",
    "    def __init__(self, name):\n",
    "        self.name = name\n",
    "\n",
    "class Hr(Office, Info):\n",
    "    def __init__(self, name, address, phone):\n",
    "        Info.__init__(self, address)\n",
    "        Office.__init__(self, name)\n",
    "        self.phone = phone\n",
    "        \n",
    "    def hr(self):\n",
    "        print(f\"hello I am {self.name}. I am from {self.address}. My phone number is {self.phone}.\")\n",
    "        \n",
    "\n",
    "obj = Hr(\"Ram\", \"Kathmandu\", 98989898)\n",
    "obj.hr()"
   ]
  },
  {
   "cell_type": "code",
   "execution_count": 43,
   "metadata": {},
   "outputs": [
    {
     "data": {
      "text/plain": [
       "'Ram'"
      ]
     },
     "execution_count": 43,
     "metadata": {},
     "output_type": "execute_result"
    }
   ],
   "source": [
    "class Info:\n",
    "    def __init__(self, address):\n",
    "        self.address = address\n",
    "    \n",
    "    def address(self):\n",
    "        return f\"I am from {self.address}.\"\n",
    "    \n",
    "class Office(Info):\n",
    "    def __init__(self, name):\n",
    "        self.name = name\n",
    "    \n",
    "    def name(self):\n",
    "        print (self.name)\n",
    "\n",
    "class Hr(Office, Info):\n",
    "    def __init__(self, name, address, phone):\n",
    "        Info.__init__(self, address)\n",
    "        Office.__init__(self, name)\n",
    "        self.phone = phone\n",
    "        \n",
    "    def hr(self):\n",
    "        print(f\"{super().name()} {super().address()}. My number is {self.phone}.\")\n",
    "        \n",
    "\n",
    "obj = Hr('Ram', \"Kathmandu\", 89898989)\n",
    "obj.name"
   ]
  },
  {
   "cell_type": "code",
   "execution_count": 39,
   "metadata": {},
   "outputs": [
    {
     "name": "stdout",
     "output_type": "stream",
     "text": [
      "Ram\n"
     ]
    }
   ],
   "source": [
    "class Person:\n",
    "    #defining constructor\n",
    "    def __init__(self, personName, personAge):\n",
    "        self.name = personName\n",
    "        self.age = personAge\n",
    "    def showName(self):\n",
    "        print(self.name)\n",
    "    def showAge(self):\n",
    "        print(self.age)\n",
    "\n",
    "class Student: #Person is the\n",
    "    def __init__(self, studentId):\n",
    "        self.studentId = studentId\n",
    "    def getId(self):\n",
    "        return self.studentId\n",
    "    \n",
    "class Resident(Person, Student): #extends both person and student class\n",
    "    def __init__(self, name, age, id):\n",
    "        Person.__init__(self, name, age)\n",
    "        Student.__init__(self, id)\n",
    "        #Create an object of the subclass\n",
    "\n",
    "resident1= Resident('Ram', 25, '2')\n",
    "resident2 = Resident('Hari', 23, '3')\n",
    "resident1.showName()"
   ]
  },
  {
   "cell_type": "code",
   "execution_count": null,
   "metadata": {},
   "outputs": [],
   "source": []
  }
 ],
 "metadata": {
  "kernelspec": {
   "display_name": "Python 3",
   "language": "python",
   "name": "python3"
  },
  "language_info": {
   "codemirror_mode": {
    "name": "ipython",
    "version": 3
   },
   "file_extension": ".py",
   "mimetype": "text/x-python",
   "name": "python",
   "nbconvert_exporter": "python",
   "pygments_lexer": "ipython3",
   "version": "3.8.5"
  }
 },
 "nbformat": 4,
 "nbformat_minor": 4
}
