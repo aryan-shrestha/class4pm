{
 "cells": [
  {
   "cell_type": "code",
   "execution_count": 1,
   "metadata": {},
   "outputs": [
    {
     "name": "stdout",
     "output_type": "stream",
     "text": [
      "<class 'dict'>\n"
     ]
    }
   ],
   "source": [
    "# Characterstics of dictionary\n",
    "# Mutable\n",
    "# it may have multiple value\n",
    "# no duplicate index\n",
    "# Ordered\n",
    "\n",
    "a = {}\n",
    "print(type(a))"
   ]
  },
  {
   "cell_type": "code",
   "execution_count": 2,
   "metadata": {},
   "outputs": [
    {
     "name": "stdout",
     "output_type": "stream",
     "text": [
      "{'a': 'apple', 'b': 'ball'}\n",
      "apple\n"
     ]
    }
   ],
   "source": [
    "a = {\"a\": \"apple\", \"b\": \"ball\"}\n",
    "print(a)\n",
    "print(a[\"a\"])"
   ]
  },
  {
   "cell_type": "code",
   "execution_count": 3,
   "metadata": {},
   "outputs": [
    {
     "name": "stdout",
     "output_type": "stream",
     "text": [
      "{'a': 'ant', 'b': 'ball'}\n"
     ]
    }
   ],
   "source": [
    "# mutable\n",
    "\n",
    "a = {\"a\": \"apple\", \"b\": \"ball\"}\n",
    "\n",
    "a[\"a\"] = \"ant\"\n",
    "\n",
    "print(a)"
   ]
  },
  {
   "cell_type": "code",
   "execution_count": 4,
   "metadata": {},
   "outputs": [
    {
     "name": "stdout",
     "output_type": "stream",
     "text": [
      "{'a': 'Apple', 'b': 'Ball', 'c': 'Cat'}\n"
     ]
    }
   ],
   "source": [
    "# if a dictionary is empty or given key is not in the dictionary the given new key is created \n",
    "a = {}  \n",
    "a[\"a\"] = \"Apple\"\n",
    "a[\"b\"] = \"Ball\"\n",
    "a[\"c\"] = \"Cat\"\n",
    "\n",
    "print(a)"
   ]
  },
  {
   "cell_type": "code",
   "execution_count": 5,
   "metadata": {},
   "outputs": [
    {
     "name": "stdout",
     "output_type": "stream",
     "text": [
      "{'a': 'Ant', 'b': 'Ball', 'c': 'Cat'}\n"
     ]
    }
   ],
   "source": [
    "# if a dictionary already contains a key then value assigned to the same is replaced\n",
    "\n",
    "a[\"a\"] = \"Ant\"\n",
    "\n",
    "print(a)\n"
   ]
  },
  {
   "cell_type": "code",
   "execution_count": 11,
   "metadata": {},
   "outputs": [
    {
     "name": "stdout",
     "output_type": "stream",
     "text": [
      "('a', 'Ant')\n",
      "('b', 'Ball')\n",
      "('c', 'Cat')\n"
     ]
    }
   ],
   "source": [
    "# dictionary methods\n",
    "# .value() : returns value\n",
    "# .item() : returns key + value\n",
    "\n",
    "for i in a.items():\n",
    "    print(i)"
   ]
  },
  {
   "cell_type": "code",
   "execution_count": 12,
   "metadata": {},
   "outputs": [
    {
     "name": "stdout",
     "output_type": "stream",
     "text": [
      "[('a', 'Ant'), ('b', 'Ball'), ('c', 'Cat')]\n"
     ]
    }
   ],
   "source": [
    "a = {'a': 'Ant', 'b': 'Ball', 'c': 'Cat'}\n",
    "\n",
    "key_value = []\n",
    "\n",
    "for i in a.items():\n",
    "    key_value.append(i)\n",
    "print(key_value)"
   ]
  },
  {
   "cell_type": "code",
   "execution_count": 13,
   "metadata": {},
   "outputs": [
    {
     "name": "stdout",
     "output_type": "stream",
     "text": [
      "[['a', 'Ant'], ['b', 'Ball'], ['c', 'Cat']]\n"
     ]
    }
   ],
   "source": [
    "new_data = []\n",
    "for i in key_value:\n",
    "    j = list(i)\n",
    "    new_data.append(j)\n",
    "print(new_data)"
   ]
  },
  {
   "cell_type": "code",
   "execution_count": 14,
   "metadata": {},
   "outputs": [
    {
     "name": "stdout",
     "output_type": "stream",
     "text": [
      "[['A', 'Ant'], ['b', 'Ball'], ['c', 'Cat']]\n"
     ]
    }
   ],
   "source": [
    "new_data[0][0] = \"A\"\n",
    "print(new_data)"
   ]
  },
  {
   "cell_type": "code",
   "execution_count": 15,
   "metadata": {},
   "outputs": [
    {
     "name": "stdout",
     "output_type": "stream",
     "text": [
      "{'A': 'Ant', 'b': 'Ball', 'c': 'Cat'}\n"
     ]
    }
   ],
   "source": [
    "d = {}\n",
    "\n",
    "for k in new_data:\n",
    "    key = k[0]\n",
    "    value = k[1]\n",
    "    d[key] = value\n",
    "print(d)"
   ]
  },
  {
   "cell_type": "code",
   "execution_count": 16,
   "metadata": {},
   "outputs": [
    {
     "name": "stdout",
     "output_type": "stream",
     "text": [
      "Enter number of people: 2\n",
      "Enter name ram\n",
      "Enter phone 98989898\n",
      "Enter name hari\n",
      "Enter phone 5656565656\n",
      "The infor is = \n",
      " {'ram': 98989898, 'hari': 5656565656}\n"
     ]
    }
   ],
   "source": [
    "n = int(input(\"Enter number of people: \"))\n",
    "\n",
    "d = {}\n",
    "\n",
    "for i in range(n):\n",
    "    name = input(\"Enter name \")\n",
    "    phone = int(input(\"Enter phone \"))\n",
    "    d[name] = phone\n",
    "print(\"The infor is = \\n\", d)\n",
    "    "
   ]
  },
  {
   "cell_type": "code",
   "execution_count": 17,
   "metadata": {},
   "outputs": [
    {
     "name": "stdout",
     "output_type": "stream",
     "text": [
      "98989898\n"
     ]
    }
   ],
   "source": [
    "print(d['ram'])"
   ]
  },
  {
   "cell_type": "code",
   "execution_count": 18,
   "metadata": {},
   "outputs": [],
   "source": [
    "a = {\"a\": \"Apple\"}\n",
    "b = {\"b\": \"ball\"}\n",
    "a.update(b)"
   ]
  },
  {
   "cell_type": "code",
   "execution_count": 19,
   "metadata": {},
   "outputs": [
    {
     "name": "stdout",
     "output_type": "stream",
     "text": [
      "{'a': 'Apple', 'b': 'ball'}\n"
     ]
    }
   ],
   "source": [
    "print(a)"
   ]
  },
  {
   "cell_type": "code",
   "execution_count": 20,
   "metadata": {},
   "outputs": [
    {
     "name": "stdout",
     "output_type": "stream",
     "text": [
      "{'b': 'ball'}\n"
     ]
    }
   ],
   "source": [
    "d = {'a': 'Apple', 'b': 'ball'}\n",
    "del d['a']\n",
    "print(d)"
   ]
  },
  {
   "cell_type": "code",
   "execution_count": 21,
   "metadata": {},
   "outputs": [
    {
     "name": "stdout",
     "output_type": "stream",
     "text": [
      "{'b': 'ball'}\n"
     ]
    }
   ],
   "source": [
    "d = {'a': 'Apple', 'b': 'ball'}\n",
    "d.pop(\"a\")\n",
    "print(d)"
   ]
  },
  {
   "cell_type": "code",
   "execution_count": 22,
   "metadata": {},
   "outputs": [
    {
     "name": "stdout",
     "output_type": "stream",
     "text": [
      "{}\n"
     ]
    }
   ],
   "source": [
    "d = {'a': 'Apple', 'b': 'ball'}\n",
    "d.clear()\n",
    "print(d)"
   ]
  },
  {
   "cell_type": "code",
   "execution_count": 25,
   "metadata": {},
   "outputs": [
    {
     "name": "stdout",
     "output_type": "stream",
     "text": [
      "{'a': ['apple', 'ant'], 'b': ['ball', 'bat']}\n",
      "['apple', 'ant']\n",
      "apple\n"
     ]
    }
   ],
   "source": [
    "#list inside dictionary\n",
    "\n",
    "a = {\"a\": [\"apple\", \"ant\"], 'b':[\"ball\", \"bat\"]}\n",
    "\n",
    "print(a)\n",
    "print(a[\"a\"])\n",
    "print(a[\"a\"][0])"
   ]
  },
  {
   "cell_type": "code",
   "execution_count": 28,
   "metadata": {},
   "outputs": [
    {
     "name": "stdout",
     "output_type": "stream",
     "text": [
      "Enter number of people: 2\n",
      "Enter name ram\n",
      "Enter ntc number 232323\n",
      "Enter ncell number121212\n",
      "Enter name shyam\n",
      "Enter ntc number 454545\n",
      "Enter ncell number56565656\n",
      "The infor is = \n",
      " {'ram': [232323, 121212], 'shyam': [454545, 56565656]}\n"
     ]
    }
   ],
   "source": [
    "n = int(input(\"Enter number of people: \"))\n",
    "\n",
    "d = {}\n",
    "\n",
    "for i in range(n):\n",
    "    name = input(\"Enter name \")\n",
    "    ntc_phone = int(input(\"Enter ntc number \"))\n",
    "    ncell_phone = int((input(\"Enter ncell number\")))\n",
    "    d[name] = [ntc_phone, ncell_phone]\n",
    "print(\"The infor is = \\n\", d)"
   ]
  },
  {
   "cell_type": "code",
   "execution_count": 29,
   "metadata": {},
   "outputs": [
    {
     "name": "stdout",
     "output_type": "stream",
     "text": [
      "{'ram': [232323, 121212, '78787878'], 'shyam': [454545, 56565656]}\n"
     ]
    }
   ],
   "source": [
    "d = {'ram': [232323, 121212], 'shyam': [454545, 56565656]}\n",
    "\n",
    "d[\"ram\"].append(\"78787878\")\n",
    "print(d)"
   ]
  },
  {
   "cell_type": "code",
   "execution_count": 31,
   "metadata": {},
   "outputs": [
    {
     "name": "stdout",
     "output_type": "stream",
     "text": [
      "{'ram': [58585858, 121212, '78787878'], 'shyam': [454545, 56565656]}\n"
     ]
    }
   ],
   "source": [
    "d = {'ram': [232323, 121212, '78787878'], 'shyam': [454545, 56565656]}\n",
    "d[\"ram\"][0] = 58585858\n",
    "print(d)"
   ]
  },
  {
   "cell_type": "code",
   "execution_count": 32,
   "metadata": {},
   "outputs": [],
   "source": [
    "del d[\"ram\"][2]"
   ]
  },
  {
   "cell_type": "code",
   "execution_count": 33,
   "metadata": {},
   "outputs": [
    {
     "name": "stdout",
     "output_type": "stream",
     "text": [
      "{'ram': [58585858, 121212], 'shyam': [454545, 56565656]}\n"
     ]
    }
   ],
   "source": [
    "print(d)"
   ]
  },
  {
   "cell_type": "code",
   "execution_count": 37,
   "metadata": {},
   "outputs": [
    {
     "name": "stdout",
     "output_type": "stream",
     "text": [
      "Enter no of item = 2\n",
      "Enter name = coke\n",
      "Enter price = 2\n",
      "Enter quantity = 2\n",
      "Enter name = lays\n",
      "Enter price = 50\n",
      "Enter quantity = 2\n",
      "The info is = \n",
      " {'coke': [2, 2, 4], 'lays': [50, 2, 100]}\n"
     ]
    }
   ],
   "source": [
    "# billing system using dictionary\n",
    "\n",
    "d = {}\n",
    "m = int(input(\"Enter no of item = \"))\n",
    "\n",
    "for i in range(n):\n",
    "    name = input(\"Enter name = \")\n",
    "    price = int(input(\"Enter price = \"))\n",
    "    quantity = int(input(\"Enter quantity = \"))\n",
    "    total = price * quantity\n",
    "    d[name] = [price, quantity, total]\n",
    "print(\"The info is = \\n\", d)\n",
    "        "
   ]
  },
  {
   "cell_type": "code",
   "execution_count": 43,
   "metadata": {},
   "outputs": [
    {
     "ename": "KeyError",
     "evalue": "'lays'",
     "output_type": "error",
     "traceback": [
      "\u001b[1;31m---------------------------------------------------------------------------\u001b[0m",
      "\u001b[1;31mKeyError\u001b[0m                                  Traceback (most recent call last)",
      "\u001b[1;32m<ipython-input-43-ea83416b50ef>\u001b[0m in \u001b[0;36m<module>\u001b[1;34m\u001b[0m\n\u001b[0;32m      6\u001b[0m     ]\n\u001b[0;32m      7\u001b[0m \u001b[1;32mfor\u001b[0m \u001b[0mi\u001b[0m \u001b[1;32min\u001b[0m \u001b[0mb\u001b[0m\u001b[1;33m:\u001b[0m\u001b[1;33m\u001b[0m\u001b[1;33m\u001b[0m\u001b[0m\n\u001b[1;32m----> 8\u001b[1;33m     \u001b[0mprint\u001b[0m\u001b[1;33m(\u001b[0m\u001b[0mi\u001b[0m\u001b[1;33m[\u001b[0m\u001b[0mname\u001b[0m\u001b[1;33m]\u001b[0m\u001b[1;33m)\u001b[0m\u001b[1;33m\u001b[0m\u001b[1;33m\u001b[0m\u001b[0m\n\u001b[0m",
      "\u001b[1;31mKeyError\u001b[0m: 'lays'"
     ]
    }
   ],
   "source": [
    "#list inside dictionary\n",
    "\n",
    "b = [{\"name\": \"Ram\", \"Phone\": 98989898},\n",
    "    {\"name\": \"shyam\", \"Phone\": 88888888},\n",
    "     {\"name\": \"Hari\", \"Phone\": 97777777}\n",
    "    ]\n",
    "for i in b:\n",
    "    print(i[name])"
   ]
  },
  {
   "cell_type": "code",
   "execution_count": null,
   "metadata": {},
   "outputs": [
    {
     "name": "stdout",
     "output_type": "stream",
     "text": [
      "Enter no of item = 2\n",
      "Enter name = apple\n",
      "Enter price = 20\n",
      "Enter quantity = 10\n"
     ]
    }
   ],
   "source": [
    "d = []\n",
    "s = 0\n",
    "m = int(input(\"Enter no of item = \"))\n",
    "\n",
    "for i in range(n):\n",
    "    name = input(\"Enter name = \")\n",
    "    price = int(input(\"Enter price = \"))\n",
    "    quantity = int(input(\"Enter quantity = \"))\n",
    "    total = price * quantity\n",
    "    s = s + total\n",
    "    data = {\"name\": name, \"price\":price, \n",
    "            \"Quantity\": quantity, \"Total\": total}\n",
    "    d.append(data)\n",
    "print(d)\n",
    "print(\"the total is \", s)"
   ]
  },
  {
   "cell_type": "code",
   "execution_count": null,
   "metadata": {},
   "outputs": [],
   "source": []
  },
  {
   "cell_type": "code",
   "execution_count": null,
   "metadata": {},
   "outputs": [],
   "source": []
  },
  {
   "cell_type": "code",
   "execution_count": null,
   "metadata": {},
   "outputs": [],
   "source": []
  }
 ],
 "metadata": {
  "kernelspec": {
   "display_name": "Python 3",
   "language": "python",
   "name": "python3"
  },
  "language_info": {
   "codemirror_mode": {
    "name": "ipython",
    "version": 3
   },
   "file_extension": ".py",
   "mimetype": "text/x-python",
   "name": "python",
   "nbconvert_exporter": "python",
   "pygments_lexer": "ipython3",
   "version": "3.8.5"
  }
 },
 "nbformat": 4,
 "nbformat_minor": 4
}
